{
 "cells": [
  {
   "cell_type": "code",
   "execution_count": 1,
   "metadata": {},
   "outputs": [],
   "source": [
    "import pandas as pd\n",
    "import os\n",
    "import sys\n",
    "\n",
    "project_root = os.path.abspath(os.path.join(os.getcwd(), os.pardir, os.pardir))\n",
    "src_folder = os.path.join(project_root, 'src')\n",
    "sys.path.insert(0, src_folder)\n",
    "\n",
    "from plot import *"
   ]
  },
  {
   "cell_type": "code",
   "execution_count": 2,
   "metadata": {},
   "outputs": [],
   "source": [
    "pd.options.display.max_rows = 100\n",
    "pd.options.display.max_columns = 50\n",
    "plt.rcParams['figure.figsize'] = [10, 5]"
   ]
  },
  {
   "cell_type": "code",
   "execution_count": 3,
   "metadata": {},
   "outputs": [
    {
     "name": "stdout",
     "output_type": "stream",
     "text": [
      "Number of occurrences: 5460\n"
     ]
    }
   ],
   "source": [
    "df_occurrences = pd.read_csv(\"../../data/interm_intro/occurrences.csv\", sep = '~')\n",
    "df_upd_occurrences = df_occurrences.copy()\n",
    "print \"Number of occurrences:\", df_occurrences.shape[0]"
   ]
  },
  {
   "cell_type": "markdown",
   "metadata": {},
   "source": [
    "# The classification output"
   ]
  },
  {
   "cell_type": "code",
   "execution_count": 4,
   "metadata": {},
   "outputs": [
    {
     "data": {
      "image/png": "[encoded data removed]",
      "text/plain": [
       "<Figure size 720x360 with 1 Axes>"
      ]
     },
     "metadata": {
      "needs_background": "light"
     },
     "output_type": "display_data"
    }
   ],
   "source": [
    "occur_class_serie = df_occurrences['ocorrencia_classificacao'].value_counts()\n",
    "ax = occur_class_serie.plot.bar(rot = 45)"
   ]
  },
  {
   "cell_type": "markdown",
   "metadata": {},
   "source": [
    "There are __THREE__ types for a classification of the occurrence. Also, the data is clean."
   ]
  },
  {
   "cell_type": "markdown",
   "metadata": {},
   "source": [
    "# Possible features"
   ]
  },
  {
   "cell_type": "markdown",
   "metadata": {},
   "source": [
    "The first feature to analyse is the type of the occurence."
   ]
  },
  {
   "cell_type": "code",
   "execution_count": 5,
   "metadata": {
    "scrolled": true
   },
   "outputs": [
    {
     "data": {
      "text/plain": [
       "FALHA DO MOTOR EM VOO                                                                           651\n",
       "ESTOURO DE PNEU                                                                                 599\n",
       "FALHA OU MAU FUNCIONAMENTO DE SISTEMA / COMPONENTE                                              563\n",
       "PERDA DE CONTROLE NO SOLO                                                                       463\n",
       "PERDA DE CONTROLE EM VOO                                                                        345\n",
       "OUTROS                                                                                          329\n",
       "COLISÃO COM AVE                                                                                 319\n",
       "COM TREM DE POUSO                                                                               315\n",
       "COLISÃO COM OBSTÁCULO DURANTE A DECOLAGEM E POUSO                                               170\n",
       "TRÁFEGO AÉREO                                                                                   129\n",
       "COLISÃO COM OBSTÁCULOS NO SOLO                                                                  111\n",
       "CAUSADO POR FENÔMENO METEOROLÓGICO EM VOO                                                       110\n",
       "PANE SECA                                                                                       101\n",
       "POUSO EM LOCAL NÃO PREVISTO                                                                     100\n",
       "INDETERMINADO                                                                                    98\n",
       "POUSO SEM TREM                                                                                   91\n",
       "POUSO BRUSCO                                                                                     85\n",
       "COM PARA-BRISAS / JANELA / PORTA                                                                 68\n",
       "PERDA DE COMPONENTE EM VOO                                                                       61\n",
       "VAZAMENTO DE OUTROS FLUIDOS                                                                      59\n",
       "EXCURSÃO DE PISTA                                                                                52\n",
       "OPERAÇÃO A BAIXA ALTITUDE                                                                        52\n",
       "F.O.D.                                                                                           43\n",
       "POUSO LONGO                                                                                      43\n",
       "DESCOMPRESSÃO NÃO INTENCIONAL / EXPLOSIVA                                                        41\n",
       "VOO CONTROLADO CONTRA O TERRENO                                                                  28\n",
       "FALHA DO MOTOR NO SOLO                                                                           27\n",
       "COM COMANDOS DE VOO                                                                              26\n",
       "SUPERAQUECIMENTO                                                                                 26\n",
       "FUMAÇA NA CABINE                                                                                 26\n",
       "COLISÃO COM AERONAVE NO SOLO                                                                     25\n",
       "PERDA DE COMPONENTE NO SOLO                                                                      24\n",
       "FOGO NO SOLO                                                                                     21\n",
       "POUSO ANTES DA PISTA                                                                             19\n",
       "COM HÉLICE                                                                                       16\n",
       "COM ROTOR                                                                                        16\n",
       "VAZAMENTO DE COMBUSTÍVEL                                                                         16\n",
       "FALHA OU MAU FUNCIONAMENTO DO MOTOR                                                              15\n",
       "COLISÃO COM FAUNA                                                                                14\n",
       "CAUSADO POR FENÔMENO METEOROLÓGICO NO SOLO                                                       13\n",
       "SOPRO DE REATOR                                                                                  13\n",
       "INCURSÃO EM PISTA                                                                                11\n",
       "COLISÃO DE AERONAVES EM VOO                                                                      11\n",
       "DESORIENTAÇÃO ESPACIAL                                                                           10\n",
       "COLISÃO DE VEÍCULO COM AERONAVE                                                                  10\n",
       "AERONAVE ATINGIDA POR OBJETO                                                                     10\n",
       "FALHA ESTRUTURAL                                                                                  9\n",
       "COMBUSTÍVEL                                                                                       8\n",
       "COM LANÇAMENTO DE CARGA                                                                           8\n",
       "FOGO EM VOO                                                                                       7\n",
       "PROBLEMAS FISIOLÓGICOS                                                                            6\n",
       "CONTATO ANORMAL COM A PISTA                                                                       6\n",
       "CORTE INVOLUNTÁRIO DO MOTOR                                                                       6\n",
       "AERÓDROMO                                                                                         4\n",
       "TURBULÊNCIA                                                                                       4\n",
       "OPERAÇÕES NO SOLO                                                                                 4\n",
       "COM PESSOAL EM VOO                                                                                4\n",
       "SOPRO DE ROTOR                                                                                    3\n",
       "COM LANÇAMENTO DE PESSOAS                                                                         2\n",
       "COLISÃO EM VOO COM OBJETO REBOCADO                                                                2\n",
       "GERENCIAMENTO DE TRÁFEGO AÉREO (ATM) / SERVIÇO DE COMUNICAÇÃO NAVEGAÇÃO, OU VIGILÂNCIA (CNS)      2\n",
       "CORTANTE DE VENTO / TEMPESTADE                                                                    1\n",
       "PERDA DA CONSCIÊNCIA                                                                              1\n",
       "HIPÓXIA                                                                                           1\n",
       "RELACIONADO COM SECURITY                                                                          1\n",
       "MANOBRA ABRUPTA                                                                                   1\n",
       "IMC NÃO INTENCIONAL                                                                               1\n",
       "FORMAÇÃO DE GELO                                                                                  1\n",
       "CAUSADO POR RICOCHETE                                                                             1\n",
       "PERDA DE SEPARAÇÃO / COLISÃO EM VOO                                                               1\n",
       "ALARME FALSO DE FOGO OU DE SUPERAQUECIMENTO                                                       1\n",
       "Name: ocorrencia_tipo, dtype: int64"
      ]
     },
     "execution_count": 5,
     "metadata": {},
     "output_type": "execute_result"
    }
   ],
   "source": [
    "df_occurrences['ocorrencia_tipo'].value_counts()"
   ]
  },
  {
   "cell_type": "code",
   "execution_count": 6,
   "metadata": {},
   "outputs": [
    {
     "data": {
      "image/png": "[encoded data removed]",
      "text/plain": [
       "<Figure size 720x360 with 1 Axes>"
      ]
     },
     "metadata": {
      "needs_background": "light"
     },
     "output_type": "display_data"
    }
   ],
   "source": [
    "occur_type_df = df_occurrences[(df_occurrences.ocorrencia_tipo == 'OUTROS') | (df_occurrences.ocorrencia_tipo == 'INDETERMINADO')].groupby(['ocorrencia_tipo', 'ocorrencia_classificacao']).size().unstack()\n",
    "\n",
    "ax = occur_type_df.plot.bar(rot = 45, stacked = True)"
   ]
  },
  {
   "cell_type": "markdown",
   "metadata": {},
   "source": [
    "The data looks clean (there is no typos), the only problem is the _outros_ and _indeterminado_ values. While the former shows a distribution equivalent to the total distribution, i.e., more incidents than accident and serious incidents, the latter presents almost all occurrences as accidents.\n",
    "\n",
    "Looking on the final reports: http://sistema.cenipa.aer.mil.br/cenipa/paginas/relatorios/relatorios.php, we can see that _indeterminado_ is often due to interruption of investigation, which is when checking the existence of evidence of crime or that it was the result of violation of any law, or that research will not bring new knowledge to the prevention of new occurrences. Thererofe, the high number of accidents can be related to these \"dangerous\" conditions."
   ]
  },
  {
   "cell_type": "markdown",
   "metadata": {},
   "source": [
    "For the _ocorrencia_tipo_icao_, which is a abreviated form of type, we have:"
   ]
  },
  {
   "cell_type": "code",
   "execution_count": 7,
   "metadata": {},
   "outputs": [
    {
     "data": {
      "text/plain": [
       "FALHA OU MAU FUNCIONAMENTO DE SISTEMA / COMPONENTE                                              1160\n",
       "FALHA OU MAU FUNCIONAMENTO DO MOTOR                                                              751\n",
       "OUTROS                                                                                           703\n",
       "FALHA OU MAU FUNCIONAMENTO DE SISTEMA / COMPONENTE                                               563\n",
       "PERDA DE CONTROLE NO SOLO                                                                        463\n",
       "PERDA DE CONTROLE EM VOO                                                                         345\n",
       "COLISÃO COM AVE                                                                                  319\n",
       "CONTATO ANORMAL COM A PISTA                                                                      176\n",
       "COLISÃO COM OBSTÁCULO DURANTE A DECOLAGEM E POUSO                                                170\n",
       "COLISÃO NO SOLO                                                                                  146\n",
       "PERDA DE SEPARAÇÃO / COLISÃO EM VOO                                                              141\n",
       "COMBUSTÍVEL                                                                                      109\n",
       "INDETERMINADO                                                                                     98\n",
       "EXCURSÃO DE PISTA                                                                                 95\n",
       "FOGO/FUMAÇA (SEM IMPACTO)                                                                         54\n",
       "OPERAÇÃO A BAIXA ALTITUDE                                                                         52\n",
       "VOO CONTROLADO CONTRA O TERRENO                                                                   28\n",
       "POUSO AQUÉM/ALÉM DA PISTA                                                                         19\n",
       "MÉDICO                                                                                            18\n",
       "COLISÃO COM FAUNA                                                                                 14\n",
       "INCURSÃO EM PISTA                                                                                 11\n",
       "CONTATO ANORMAL COM A PISTA                                                                        6\n",
       "AERÓDROMO                                                                                          4\n",
       "OPERAÇÕES NO SOLO                                                                                  4\n",
       "TURBULÊNCIA                                                                                        4\n",
       "GERENCIAMENTO DE TRÁFEGO AÉREO (ATM) / SERVIÇO DE COMUNICAÇÃO NAVEGAÇÃO, OU VIGILÂNCIA (CNS)       2\n",
       "IMC NÃO INTENCIONAL                                                                                1\n",
       "CORTANTE DE VENTO / TEMPESTADE                                                                     1\n",
       "MANOBRA ABRUPTA                                                                                    1\n",
       "FORMAÇÃO DE GELO                                                                                   1\n",
       "RELACIONADO COM SECURITY                                                                           1\n",
       "Name: ocorrencia_tipo_categoria, dtype: int64"
      ]
     },
     "execution_count": 7,
     "metadata": {},
     "output_type": "execute_result"
    }
   ],
   "source": [
    "df_occurrences['ocorrencia_tipo_categoria'].value_counts()"
   ]
  },
  {
   "cell_type": "code",
   "execution_count": 8,
   "metadata": {},
   "outputs": [
    {
     "data": {
      "image/png": "[encoded data removed]",
      "text/plain": [
       "<Figure size 720x360 with 1 Axes>"
      ]
     },
     "metadata": {
      "needs_background": "light"
     },
     "output_type": "display_data"
    }
   ],
   "source": [
    "occur_uf_df = df_occurrences[(df_occurrences.ocorrencia_tipo_icao == 'OTHR')].groupby(['ocorrencia_tipo_icao', 'ocorrencia_tipo']).size().unstack()\n",
    "\n",
    "ax = occur_uf_df.plot.bar(rot = 45, stacked = True)"
   ]
  },
  {
   "cell_type": "markdown",
   "metadata": {},
   "source": [
    "Considering the three columns above that are about __type__ of occurrence, _ocorrencia_tipo_ is the most detailed in comparison to the others two. We can see it by looking the _others_ value, which is the smallest counting in this column. So we will drop the others and keep it."
   ]
  },
  {
   "cell_type": "code",
   "execution_count": 9,
   "metadata": {},
   "outputs": [
    {
     "data": {
      "text/html": [
       "<div>\n",
       "<style scoped>\n",
       "    .dataframe tbody tr th:only-of-type {\n",
       "        vertical-align: middle;\n",
       "    }\n",
       "\n",
       "    .dataframe tbody tr th {\n",
       "        vertical-align: top;\n",
       "    }\n",
       "\n",
       "    .dataframe thead th {\n",
       "        text-align: right;\n",
       "    }\n",
       "</style>\n",
       "<table border=\"1\" class=\"dataframe\">\n",
       "  <thead>\n",
       "    <tr style=\"text-align: right;\">\n",
       "      <th></th>\n",
       "      <th>codigo_ocorrencia</th>\n",
       "      <th>ocorrencia_classificacao</th>\n",
       "      <th>ocorrencia_tipo</th>\n",
       "      <th>ocorrencia_latitude</th>\n",
       "      <th>ocorrencia_longitude</th>\n",
       "      <th>ocorrencia_cidade</th>\n",
       "      <th>ocorrencia_uf</th>\n",
       "      <th>ocorrencia_pais</th>\n",
       "      <th>ocorrencia_aerodromo</th>\n",
       "      <th>ocorrencia_dia</th>\n",
       "      <th>ocorrencia_horario</th>\n",
       "      <th>investigacao_aeronave_liberada</th>\n",
       "      <th>investigacao_status</th>\n",
       "      <th>divulgacao_relatorio_numero</th>\n",
       "      <th>divulgacao_relatorio_publicado</th>\n",
       "      <th>divulgacao_dia_publicacao</th>\n",
       "      <th>total_recomendacoes</th>\n",
       "      <th>total_aeronaves_envolvidas</th>\n",
       "      <th>ocorrencia_saida_pista</th>\n",
       "      <th>ocorrencia_dia_extracao</th>\n",
       "    </tr>\n",
       "  </thead>\n",
       "  <tbody>\n",
       "    <tr>\n",
       "      <th>0</th>\n",
       "      <td>201305055424986</td>\n",
       "      <td>ACIDENTE</td>\n",
       "      <td>FALHA DO MOTOR EM VOO</td>\n",
       "      <td>-9.9085</td>\n",
       "      <td>-63.0333</td>\n",
       "      <td>ARIQUEMES</td>\n",
       "      <td>RO</td>\n",
       "      <td>BRASIL</td>\n",
       "      <td>SJOG</td>\n",
       "      <td>2013-05-05</td>\n",
       "      <td>11:00:00</td>\n",
       "      <td>NaN</td>\n",
       "      <td>FINALIZADA</td>\n",
       "      <td>***</td>\n",
       "      <td>NÃO</td>\n",
       "      <td>NaN</td>\n",
       "      <td>0</td>\n",
       "      <td>1</td>\n",
       "      <td>NÃO</td>\n",
       "      <td>2019-05-31</td>\n",
       "    </tr>\n",
       "    <tr>\n",
       "      <th>1</th>\n",
       "      <td>201311259977425</td>\n",
       "      <td>INCIDENTE GRAVE</td>\n",
       "      <td>POUSO SEM TREM</td>\n",
       "      <td>-11.4956</td>\n",
       "      <td>-61.4508</td>\n",
       "      <td>CACOAL</td>\n",
       "      <td>RO</td>\n",
       "      <td>BRASIL</td>\n",
       "      <td>SSKW</td>\n",
       "      <td>2013-11-25</td>\n",
       "      <td>12:32:00</td>\n",
       "      <td>NaN</td>\n",
       "      <td>FINALIZADA</td>\n",
       "      <td>IG-209/CENIPA/2013</td>\n",
       "      <td>SIM</td>\n",
       "      <td>2014-04-07</td>\n",
       "      <td>0</td>\n",
       "      <td>1</td>\n",
       "      <td>NÃO</td>\n",
       "      <td>2019-05-31</td>\n",
       "    </tr>\n",
       "    <tr>\n",
       "      <th>2</th>\n",
       "      <td>201605160250139</td>\n",
       "      <td>INCIDENTE GRAVE</td>\n",
       "      <td>COLISÃO COM OBSTÁCULO DURANTE A DECOLAGEM E POUSO</td>\n",
       "      <td>-11.2644</td>\n",
       "      <td>-61.2589</td>\n",
       "      <td>CACOAL</td>\n",
       "      <td>RO</td>\n",
       "      <td>BRASIL</td>\n",
       "      <td>SSKW</td>\n",
       "      <td>2016-05-13</td>\n",
       "      <td>19:19:00</td>\n",
       "      <td>SIM</td>\n",
       "      <td>FINALIZADA</td>\n",
       "      <td>IG-084/CENIPA/2016</td>\n",
       "      <td>SIM</td>\n",
       "      <td>2019-03-11</td>\n",
       "      <td>7</td>\n",
       "      <td>1</td>\n",
       "      <td>NÃO</td>\n",
       "      <td>2019-05-31</td>\n",
       "    </tr>\n",
       "    <tr>\n",
       "      <th>3</th>\n",
       "      <td>201805021421302</td>\n",
       "      <td>INCIDENTE</td>\n",
       "      <td>AERÓDROMO</td>\n",
       "      <td>-11.4956</td>\n",
       "      <td>-61.4508</td>\n",
       "      <td>CACOAL</td>\n",
       "      <td>RO</td>\n",
       "      <td>BRASIL</td>\n",
       "      <td>SSKW</td>\n",
       "      <td>2018-03-09</td>\n",
       "      <td>22:40:00</td>\n",
       "      <td>SIM</td>\n",
       "      <td>FINALIZADA</td>\n",
       "      <td>***</td>\n",
       "      <td>NÃO</td>\n",
       "      <td>NaN</td>\n",
       "      <td>0</td>\n",
       "      <td>1</td>\n",
       "      <td>NÃO</td>\n",
       "      <td>2019-05-31</td>\n",
       "    </tr>\n",
       "    <tr>\n",
       "      <th>4</th>\n",
       "      <td>201103187273112</td>\n",
       "      <td>INCIDENTE</td>\n",
       "      <td>OUTROS</td>\n",
       "      <td>-13.1950</td>\n",
       "      <td>-60.8184</td>\n",
       "      <td>CEREJEIRAS</td>\n",
       "      <td>RO</td>\n",
       "      <td>BRASIL</td>\n",
       "      <td>****</td>\n",
       "      <td>2011-03-18</td>\n",
       "      <td>13:30:00</td>\n",
       "      <td>NaN</td>\n",
       "      <td>FINALIZADA</td>\n",
       "      <td>***</td>\n",
       "      <td>NÃO</td>\n",
       "      <td>NaN</td>\n",
       "      <td>0</td>\n",
       "      <td>1</td>\n",
       "      <td>NÃO</td>\n",
       "      <td>2019-05-31</td>\n",
       "    </tr>\n",
       "  </tbody>\n",
       "</table>\n",
       "</div>"
      ],
      "text/plain": [
       "   codigo_ocorrencia ocorrencia_classificacao  \\\n",
       "0    201305055424986                 ACIDENTE   \n",
       "1    201311259977425          INCIDENTE GRAVE   \n",
       "2    201605160250139          INCIDENTE GRAVE   \n",
       "3    201805021421302                INCIDENTE   \n",
       "4    201103187273112                INCIDENTE   \n",
       "\n",
       "                                     ocorrencia_tipo  ocorrencia_latitude  \\\n",
       "0                              FALHA DO MOTOR EM VOO              -9.9085   \n",
       "1                                     POUSO SEM TREM             -11.4956   \n",
       "2  COLISÃO COM OBSTÁCULO DURANTE A DECOLAGEM E POUSO             -11.2644   \n",
       "3                                          AERÓDROMO             -11.4956   \n",
       "4                                             OUTROS             -13.1950   \n",
       "\n",
       "   ocorrencia_longitude ocorrencia_cidade ocorrencia_uf ocorrencia_pais  \\\n",
       "0              -63.0333         ARIQUEMES            RO          BRASIL   \n",
       "1              -61.4508            CACOAL            RO          BRASIL   \n",
       "2              -61.2589            CACOAL            RO          BRASIL   \n",
       "3              -61.4508            CACOAL            RO          BRASIL   \n",
       "4              -60.8184        CEREJEIRAS            RO          BRASIL   \n",
       "\n",
       "  ocorrencia_aerodromo ocorrencia_dia ocorrencia_horario  \\\n",
       "0                 SJOG     2013-05-05           11:00:00   \n",
       "1                 SSKW     2013-11-25           12:32:00   \n",
       "2                 SSKW     2016-05-13           19:19:00   \n",
       "3                 SSKW     2018-03-09           22:40:00   \n",
       "4                 ****     2011-03-18           13:30:00   \n",
       "\n",
       "  investigacao_aeronave_liberada investigacao_status  \\\n",
       "0                            NaN          FINALIZADA   \n",
       "1                            NaN          FINALIZADA   \n",
       "2                            SIM          FINALIZADA   \n",
       "3                            SIM          FINALIZADA   \n",
       "4                            NaN          FINALIZADA   \n",
       "\n",
       "  divulgacao_relatorio_numero divulgacao_relatorio_publicado  \\\n",
       "0                         ***                            NÃO   \n",
       "1          IG-209/CENIPA/2013                            SIM   \n",
       "2          IG-084/CENIPA/2016                            SIM   \n",
       "3                         ***                            NÃO   \n",
       "4                         ***                            NÃO   \n",
       "\n",
       "  divulgacao_dia_publicacao  total_recomendacoes  total_aeronaves_envolvidas  \\\n",
       "0                       NaN                    0                           1   \n",
       "1                2014-04-07                    0                           1   \n",
       "2                2019-03-11                    7                           1   \n",
       "3                       NaN                    0                           1   \n",
       "4                       NaN                    0                           1   \n",
       "\n",
       "  ocorrencia_saida_pista ocorrencia_dia_extracao  \n",
       "0                    NÃO              2019-05-31  \n",
       "1                    NÃO              2019-05-31  \n",
       "2                    NÃO              2019-05-31  \n",
       "3                    NÃO              2019-05-31  \n",
       "4                    NÃO              2019-05-31  "
      ]
     },
     "execution_count": 9,
     "metadata": {},
     "output_type": "execute_result"
    }
   ],
   "source": [
    "df_upd_occurrences = df_upd_occurrences.drop(['ocorrencia_tipo_categoria', 'ocorrencia_tipo_icao'], axis = 1)\n",
    "df_upd_occurrences.head()"
   ]
  },
  {
   "cell_type": "markdown",
   "metadata": {},
   "source": [
    "The next columns, which are _ocorrencia_latitude_, _ocorrencia_longitude_, and _ocorrencia_cidade_, at first do not appear to contribute for the occurrence, thus we will ignore them for while."
   ]
  },
  {
   "cell_type": "code",
   "execution_count": 10,
   "metadata": {},
   "outputs": [
    {
     "data": {
      "text/html": [
       "<div>\n",
       "<style scoped>\n",
       "    .dataframe tbody tr th:only-of-type {\n",
       "        vertical-align: middle;\n",
       "    }\n",
       "\n",
       "    .dataframe tbody tr th {\n",
       "        vertical-align: top;\n",
       "    }\n",
       "\n",
       "    .dataframe thead th {\n",
       "        text-align: right;\n",
       "    }\n",
       "</style>\n",
       "<table border=\"1\" class=\"dataframe\">\n",
       "  <thead>\n",
       "    <tr style=\"text-align: right;\">\n",
       "      <th></th>\n",
       "      <th>codigo_ocorrencia</th>\n",
       "      <th>ocorrencia_classificacao</th>\n",
       "      <th>ocorrencia_tipo</th>\n",
       "      <th>ocorrencia_uf</th>\n",
       "      <th>ocorrencia_pais</th>\n",
       "      <th>ocorrencia_aerodromo</th>\n",
       "      <th>ocorrencia_dia</th>\n",
       "      <th>ocorrencia_horario</th>\n",
       "      <th>investigacao_aeronave_liberada</th>\n",
       "      <th>investigacao_status</th>\n",
       "      <th>divulgacao_relatorio_numero</th>\n",
       "      <th>divulgacao_relatorio_publicado</th>\n",
       "      <th>divulgacao_dia_publicacao</th>\n",
       "      <th>total_recomendacoes</th>\n",
       "      <th>total_aeronaves_envolvidas</th>\n",
       "      <th>ocorrencia_saida_pista</th>\n",
       "      <th>ocorrencia_dia_extracao</th>\n",
       "    </tr>\n",
       "  </thead>\n",
       "  <tbody>\n",
       "    <tr>\n",
       "      <th>0</th>\n",
       "      <td>201305055424986</td>\n",
       "      <td>ACIDENTE</td>\n",
       "      <td>FALHA DO MOTOR EM VOO</td>\n",
       "      <td>RO</td>\n",
       "      <td>BRASIL</td>\n",
       "      <td>SJOG</td>\n",
       "      <td>2013-05-05</td>\n",
       "      <td>11:00:00</td>\n",
       "      <td>NaN</td>\n",
       "      <td>FINALIZADA</td>\n",
       "      <td>***</td>\n",
       "      <td>NÃO</td>\n",
       "      <td>NaN</td>\n",
       "      <td>0</td>\n",
       "      <td>1</td>\n",
       "      <td>NÃO</td>\n",
       "      <td>2019-05-31</td>\n",
       "    </tr>\n",
       "    <tr>\n",
       "      <th>1</th>\n",
       "      <td>201311259977425</td>\n",
       "      <td>INCIDENTE GRAVE</td>\n",
       "      <td>POUSO SEM TREM</td>\n",
       "      <td>RO</td>\n",
       "      <td>BRASIL</td>\n",
       "      <td>SSKW</td>\n",
       "      <td>2013-11-25</td>\n",
       "      <td>12:32:00</td>\n",
       "      <td>NaN</td>\n",
       "      <td>FINALIZADA</td>\n",
       "      <td>IG-209/CENIPA/2013</td>\n",
       "      <td>SIM</td>\n",
       "      <td>2014-04-07</td>\n",
       "      <td>0</td>\n",
       "      <td>1</td>\n",
       "      <td>NÃO</td>\n",
       "      <td>2019-05-31</td>\n",
       "    </tr>\n",
       "    <tr>\n",
       "      <th>2</th>\n",
       "      <td>201605160250139</td>\n",
       "      <td>INCIDENTE GRAVE</td>\n",
       "      <td>COLISÃO COM OBSTÁCULO DURANTE A DECOLAGEM E POUSO</td>\n",
       "      <td>RO</td>\n",
       "      <td>BRASIL</td>\n",
       "      <td>SSKW</td>\n",
       "      <td>2016-05-13</td>\n",
       "      <td>19:19:00</td>\n",
       "      <td>SIM</td>\n",
       "      <td>FINALIZADA</td>\n",
       "      <td>IG-084/CENIPA/2016</td>\n",
       "      <td>SIM</td>\n",
       "      <td>2019-03-11</td>\n",
       "      <td>7</td>\n",
       "      <td>1</td>\n",
       "      <td>NÃO</td>\n",
       "      <td>2019-05-31</td>\n",
       "    </tr>\n",
       "    <tr>\n",
       "      <th>3</th>\n",
       "      <td>201805021421302</td>\n",
       "      <td>INCIDENTE</td>\n",
       "      <td>AERÓDROMO</td>\n",
       "      <td>RO</td>\n",
       "      <td>BRASIL</td>\n",
       "      <td>SSKW</td>\n",
       "      <td>2018-03-09</td>\n",
       "      <td>22:40:00</td>\n",
       "      <td>SIM</td>\n",
       "      <td>FINALIZADA</td>\n",
       "      <td>***</td>\n",
       "      <td>NÃO</td>\n",
       "      <td>NaN</td>\n",
       "      <td>0</td>\n",
       "      <td>1</td>\n",
       "      <td>NÃO</td>\n",
       "      <td>2019-05-31</td>\n",
       "    </tr>\n",
       "    <tr>\n",
       "      <th>4</th>\n",
       "      <td>201103187273112</td>\n",
       "      <td>INCIDENTE</td>\n",
       "      <td>OUTROS</td>\n",
       "      <td>RO</td>\n",
       "      <td>BRASIL</td>\n",
       "      <td>****</td>\n",
       "      <td>2011-03-18</td>\n",
       "      <td>13:30:00</td>\n",
       "      <td>NaN</td>\n",
       "      <td>FINALIZADA</td>\n",
       "      <td>***</td>\n",
       "      <td>NÃO</td>\n",
       "      <td>NaN</td>\n",
       "      <td>0</td>\n",
       "      <td>1</td>\n",
       "      <td>NÃO</td>\n",
       "      <td>2019-05-31</td>\n",
       "    </tr>\n",
       "  </tbody>\n",
       "</table>\n",
       "</div>"
      ],
      "text/plain": [
       "   codigo_ocorrencia ocorrencia_classificacao  \\\n",
       "0    201305055424986                 ACIDENTE   \n",
       "1    201311259977425          INCIDENTE GRAVE   \n",
       "2    201605160250139          INCIDENTE GRAVE   \n",
       "3    201805021421302                INCIDENTE   \n",
       "4    201103187273112                INCIDENTE   \n",
       "\n",
       "                                     ocorrencia_tipo ocorrencia_uf  \\\n",
       "0                              FALHA DO MOTOR EM VOO            RO   \n",
       "1                                     POUSO SEM TREM            RO   \n",
       "2  COLISÃO COM OBSTÁCULO DURANTE A DECOLAGEM E POUSO            RO   \n",
       "3                                          AERÓDROMO            RO   \n",
       "4                                             OUTROS            RO   \n",
       "\n",
       "  ocorrencia_pais ocorrencia_aerodromo ocorrencia_dia ocorrencia_horario  \\\n",
       "0          BRASIL                 SJOG     2013-05-05           11:00:00   \n",
       "1          BRASIL                 SSKW     2013-11-25           12:32:00   \n",
       "2          BRASIL                 SSKW     2016-05-13           19:19:00   \n",
       "3          BRASIL                 SSKW     2018-03-09           22:40:00   \n",
       "4          BRASIL                 ****     2011-03-18           13:30:00   \n",
       "\n",
       "  investigacao_aeronave_liberada investigacao_status  \\\n",
       "0                            NaN          FINALIZADA   \n",
       "1                            NaN          FINALIZADA   \n",
       "2                            SIM          FINALIZADA   \n",
       "3                            SIM          FINALIZADA   \n",
       "4                            NaN          FINALIZADA   \n",
       "\n",
       "  divulgacao_relatorio_numero divulgacao_relatorio_publicado  \\\n",
       "0                         ***                            NÃO   \n",
       "1          IG-209/CENIPA/2013                            SIM   \n",
       "2          IG-084/CENIPA/2016                            SIM   \n",
       "3                         ***                            NÃO   \n",
       "4                         ***                            NÃO   \n",
       "\n",
       "  divulgacao_dia_publicacao  total_recomendacoes  total_aeronaves_envolvidas  \\\n",
       "0                       NaN                    0                           1   \n",
       "1                2014-04-07                    0                           1   \n",
       "2                2019-03-11                    7                           1   \n",
       "3                       NaN                    0                           1   \n",
       "4                       NaN                    0                           1   \n",
       "\n",
       "  ocorrencia_saida_pista ocorrencia_dia_extracao  \n",
       "0                    NÃO              2019-05-31  \n",
       "1                    NÃO              2019-05-31  \n",
       "2                    NÃO              2019-05-31  \n",
       "3                    NÃO              2019-05-31  \n",
       "4                    NÃO              2019-05-31  "
      ]
     },
     "execution_count": 10,
     "metadata": {},
     "output_type": "execute_result"
    }
   ],
   "source": [
    "df_upd_occurrences = df_upd_occurrences.drop(['ocorrencia_latitude', 'ocorrencia_longitude', 'ocorrencia_cidade'], axis = 1)\n",
    "df_upd_occurrences.head()"
   ]
  },
  {
   "cell_type": "markdown",
   "metadata": {},
   "source": [
    "Next, lets see the _UF_ column (maybe the flights in some locations can be more secure or something else)."
   ]
  },
  {
   "cell_type": "code",
   "execution_count": 11,
   "metadata": {},
   "outputs": [
    {
     "data": {
      "image/png": "[encoded data removed]",
      "text/plain": [
       "<Figure size 720x360 with 1 Axes>"
      ]
     },
     "metadata": {
      "needs_background": "light"
     },
     "output_type": "display_data"
    }
   ],
   "source": [
    "occur_uf_df = df_occurrences.groupby(['ocorrencia_uf', 'ocorrencia_classificacao']).size().unstack()\n",
    "\n",
    "ax = occur_uf_df.plot.bar(rot = 45, stacked = True)"
   ]
  },
  {
   "cell_type": "markdown",
   "metadata": {},
   "source": [
    "There values are correct, 27 UF's and only two NULL data. It is hard to say that this feature can help in the prediction, the distribution is equally balanced between all UF's. Let's see the _***_ values:"
   ]
  },
  {
   "cell_type": "code",
   "execution_count": 12,
   "metadata": {},
   "outputs": [
    {
     "data": {
      "text/html": [
       "<div>\n",
       "<style scoped>\n",
       "    .dataframe tbody tr th:only-of-type {\n",
       "        vertical-align: middle;\n",
       "    }\n",
       "\n",
       "    .dataframe tbody tr th {\n",
       "        vertical-align: top;\n",
       "    }\n",
       "\n",
       "    .dataframe thead th {\n",
       "        text-align: right;\n",
       "    }\n",
       "</style>\n",
       "<table border=\"1\" class=\"dataframe\">\n",
       "  <thead>\n",
       "    <tr style=\"text-align: right;\">\n",
       "      <th></th>\n",
       "      <th>codigo_ocorrencia</th>\n",
       "      <th>ocorrencia_classificacao</th>\n",
       "      <th>ocorrencia_tipo</th>\n",
       "      <th>ocorrencia_tipo_categoria</th>\n",
       "      <th>ocorrencia_tipo_icao</th>\n",
       "      <th>ocorrencia_latitude</th>\n",
       "      <th>ocorrencia_longitude</th>\n",
       "      <th>ocorrencia_cidade</th>\n",
       "      <th>ocorrencia_uf</th>\n",
       "      <th>ocorrencia_pais</th>\n",
       "      <th>ocorrencia_aerodromo</th>\n",
       "      <th>ocorrencia_dia</th>\n",
       "      <th>ocorrencia_horario</th>\n",
       "      <th>investigacao_aeronave_liberada</th>\n",
       "      <th>investigacao_status</th>\n",
       "      <th>divulgacao_relatorio_numero</th>\n",
       "      <th>divulgacao_relatorio_publicado</th>\n",
       "      <th>divulgacao_dia_publicacao</th>\n",
       "      <th>total_recomendacoes</th>\n",
       "      <th>total_aeronaves_envolvidas</th>\n",
       "      <th>ocorrencia_saida_pista</th>\n",
       "      <th>ocorrencia_dia_extracao</th>\n",
       "    </tr>\n",
       "  </thead>\n",
       "  <tbody>\n",
       "    <tr>\n",
       "      <th>5454</th>\n",
       "      <td>201503065919795</td>\n",
       "      <td>ACIDENTE</td>\n",
       "      <td>OUTROS</td>\n",
       "      <td>OUTROS</td>\n",
       "      <td>OTHR</td>\n",
       "      <td>-22.2036</td>\n",
       "      <td>-47.1967</td>\n",
       "      <td>NÃO IDENTIFICADA</td>\n",
       "      <td>***</td>\n",
       "      <td>BRASIL</td>\n",
       "      <td>****</td>\n",
       "      <td>2015-03-06</td>\n",
       "      <td>21:00:00</td>\n",
       "      <td>NaN</td>\n",
       "      <td>ATIVA</td>\n",
       "      <td>A-034/CENIPA/2015</td>\n",
       "      <td>NÃO</td>\n",
       "      <td>NaN</td>\n",
       "      <td>0</td>\n",
       "      <td>1</td>\n",
       "      <td>NÃO</td>\n",
       "      <td>2019-05-31</td>\n",
       "    </tr>\n",
       "    <tr>\n",
       "      <th>5459</th>\n",
       "      <td>201309012098180</td>\n",
       "      <td>ACIDENTE</td>\n",
       "      <td>CAUSADO POR FENÔMENO METEOROLÓGICO EM VOO</td>\n",
       "      <td>OUTROS</td>\n",
       "      <td>OTHR</td>\n",
       "      <td>6.7119</td>\n",
       "      <td>-32.9919</td>\n",
       "      <td>ÁGUAS INTERNACIONAIS</td>\n",
       "      <td>***</td>\n",
       "      <td>BRASIL</td>\n",
       "      <td>****</td>\n",
       "      <td>2013-09-02</td>\n",
       "      <td>02:54:00</td>\n",
       "      <td>NaN</td>\n",
       "      <td>FINALIZADA</td>\n",
       "      <td>A-158/CENIPA/2013</td>\n",
       "      <td>SIM</td>\n",
       "      <td>2018-05-10</td>\n",
       "      <td>2</td>\n",
       "      <td>1</td>\n",
       "      <td>NÃO</td>\n",
       "      <td>2019-05-31</td>\n",
       "    </tr>\n",
       "  </tbody>\n",
       "</table>\n",
       "</div>"
      ],
      "text/plain": [
       "      codigo_ocorrencia ocorrencia_classificacao  \\\n",
       "5454    201503065919795                 ACIDENTE   \n",
       "5459    201309012098180                 ACIDENTE   \n",
       "\n",
       "                                ocorrencia_tipo ocorrencia_tipo_categoria  \\\n",
       "5454                                     OUTROS                    OUTROS   \n",
       "5459  CAUSADO POR FENÔMENO METEOROLÓGICO EM VOO                    OUTROS   \n",
       "\n",
       "     ocorrencia_tipo_icao  ocorrencia_latitude  ocorrencia_longitude  \\\n",
       "5454                 OTHR             -22.2036              -47.1967   \n",
       "5459                 OTHR               6.7119              -32.9919   \n",
       "\n",
       "         ocorrencia_cidade ocorrencia_uf ocorrencia_pais ocorrencia_aerodromo  \\\n",
       "5454      NÃO IDENTIFICADA           ***          BRASIL                 ****   \n",
       "5459  ÁGUAS INTERNACIONAIS           ***          BRASIL                 ****   \n",
       "\n",
       "     ocorrencia_dia ocorrencia_horario investigacao_aeronave_liberada  \\\n",
       "5454     2015-03-06           21:00:00                            NaN   \n",
       "5459     2013-09-02           02:54:00                            NaN   \n",
       "\n",
       "     investigacao_status divulgacao_relatorio_numero  \\\n",
       "5454               ATIVA           A-034/CENIPA/2015   \n",
       "5459          FINALIZADA           A-158/CENIPA/2013   \n",
       "\n",
       "     divulgacao_relatorio_publicado divulgacao_dia_publicacao  \\\n",
       "5454                            NÃO                       NaN   \n",
       "5459                            SIM                2018-05-10   \n",
       "\n",
       "      total_recomendacoes  total_aeronaves_envolvidas ocorrencia_saida_pista  \\\n",
       "5454                    0                           1                    NÃO   \n",
       "5459                    2                           1                    NÃO   \n",
       "\n",
       "     ocorrencia_dia_extracao  \n",
       "5454              2019-05-31  \n",
       "5459              2019-05-31  "
      ]
     },
     "execution_count": 12,
     "metadata": {},
     "output_type": "execute_result"
    }
   ],
   "source": [
    "df_occurrences[(df_occurrences.ocorrencia_uf == '***')]"
   ]
  },
  {
   "cell_type": "markdown",
   "metadata": {},
   "source": [
    "These are occurrences that happens out of the country, for example, while flying above the sea."
   ]
  },
  {
   "cell_type": "code",
   "execution_count": null,
   "metadata": {},
   "outputs": [],
   "source": []
  }
 ],
 "metadata": {
  "kernelspec": {
   "display_name": "Python 2",
   "language": "python",
   "name": "python2"
  },
  "language_info": {
   "codemirror_mode": {
    "name": "ipython",
    "version": 2
   },
   "file_extension": ".py",
   "mimetype": "text/x-python",
   "name": "python",
   "nbconvert_exporter": "python",
   "pygments_lexer": "ipython2",
   "version": "2.7.15+"
  }
 },
 "nbformat": 4,
 "nbformat_minor": 2
}
